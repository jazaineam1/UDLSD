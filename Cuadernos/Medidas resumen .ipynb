{
 "cells": [
  {
   "cell_type": "markdown",
   "metadata": {},
   "source": [
    "# Medidas numéricas resumen\n",
    "\n",
    "Para esta sección vamos a utilizar una base de datos que ya se encuentra de\n",
    "manera directa en R. De esta manera también vemos cómo leer otra clase de\n",
    "información:\n",
    "\n",
    "```R\n",
    "data(iris)\n",
    "View(iris)\n",
    "attach(iris)\n",
    "```\n",
    "\n",
    "<img src=\"https://raw.githubusercontent.com/jazaineam1/UDLSD/master/Cuadernos/Imagenes/Imagenesmr/mr1.jpg\" width=\"400px\">"
   ]
  },
  {
   "cell_type": "markdown",
   "metadata": {},
   "source": [
    "Las instrucciones básicas son:\n",
    "```R\n",
    "mean( ) #media \n",
    "median( ) #mediana\n",
    "summary( ) #resumen de datos\n",
    "sd( ) #desviación estándar\n",
    "boxplot( ) # Diagrama de caja\n",
    "boxplot.stats( ) #estadísticas de diagrama de caja\n",
    "```\n",
    "Se utilizará la variable Sepal.Width para realizar los cálculos.\n",
    "<img src=\"https://raw.githubusercontent.com/jazaineam1/UDLSD/master/Cuadernos/Imagenes/Imagenesmr/mr2.jpg\" width=\"350px\">\n",
    "Se ha calculado la media, mediana, los\n",
    "cuartiles y la desviación estándar.\n",
    "\n",
    "Con la instrucción boxplot.stats\n",
    "encontramos los valores utilizados para\n",
    "la construcción del gráfico. \n",
    "\n",
    "La cantidad de datos que se utilizaron.\n",
    "\n",
    "Los límites de valores atípicos.\n",
    "\n",
    "\n",
    "Los datos considerados atípicos.\n",
    "\n",
    "```R\n",
    "boxplot(Sepal.Width)\n",
    "```\n",
    "Con esta instrucción se genera el gráfico:\n",
    "\n",
    "<img src=\"https://raw.githubusercontent.com/jazaineam1/UDLSD/master/Cuadernos/Imagenes/Imagenesmr/mr3.jpg\" width=\"350px\">\n",
    "\n",
    "Este gráfico puede ser mejorado con instrucciones adicionales:\n",
    "```r \n",
    "boxplot(Sepal.Width, main=\"Anchura del sepalo\", ylab=\"Anchura\", col=\"yellow\")\n",
    "boxplot(Sepal.Width, main=\"Anchura del sepalo\", ylab=\"Anchura\", col=\"yellow\", horizontal = TRUE)\n",
    "```\n",
    "\n",
    "## Obtención de las medidas resumen para un grupo específico:\n",
    "\n",
    "Vamos a obtener las mismas medidas anteriores pero para el grupo específico de especie setosa.\n",
    "<img src=\"https://raw.githubusercontent.com/jazaineam1/UDLSD/master/Cuadernos/Imagenes/Imagenesmr/mr4.jpg\" width=\"350px\">\n",
    " y el gráfico \n",
    "```R\n",
    "boxplot(Sepal.Width[Species==\"setosa\"], main=\"Anchura de sepalo\", sub=\"Especie setosa\", col=\"orange\")\n",
    "``` \n",
    "<img src=\"https://raw.githubusercontent.com/jazaineam1/UDLSD/master/Cuadernos/Imagenes/Imagenesmr/mr5.jpg\" width=\"350px\">\n",
    "\n",
    "## Obtención de medidas resumen para comparar grupos\n",
    "\n",
    "En este caso utilizamos la función tapply:\n",
    "\n",
    "```r\n",
    "tapply(variable,grupos,medida)\n",
    "```\n",
    "<img src=\"https://raw.githubusercontent.com/jazaineam1/UDLSD/master/Cuadernos/Imagenes/Imagenesmr/mr6.jpg\" width=\"350px\">\n",
    " ## Boxplot comparativo\n",
    "```r\n",
    "boxplot(Sepal.Width~Species)\n",
    "boxplot(Sepal.Width~Species, main=\"Anchura de sepalo por especie\", xlab=\"especie\", col=c(\"purple\",\"red\",\"orange\"))\n",
    "```\n",
    " <img src=\"https://raw.githubusercontent.com/jazaineam1/UDLSD/master/Cuadernos/Imagenes/Imagenesmr/mr7.jpg\" width=\"350px\">\n"
   ]
  }
 ],
 "metadata": {
  "kernelspec": {
   "display_name": "R",
   "language": "R",
   "name": "ir"
  },
  "language_info": {
   "codemirror_mode": "r",
   "file_extension": ".r",
   "mimetype": "text/x-r-source",
   "name": "R",
   "pygments_lexer": "r",
   "version": "4.0.2"
  },
  "latex_envs": {
   "LaTeX_envs_menu_present": true,
   "autoclose": false,
   "autocomplete": true,
   "bibliofile": "biblio.bib",
   "cite_by": "apalike",
   "current_citInitial": 1,
   "eqLabelWithNumbers": true,
   "eqNumInitial": 1,
   "hotkeys": {
    "equation": "Ctrl-E",
    "itemize": "Ctrl-I"
   },
   "labels_anchors": false,
   "latex_user_defs": false,
   "report_style_numbering": false,
   "user_envs_cfg": false
  },
  "toc": {
   "base_numbering": 1,
   "nav_menu": {},
   "number_sections": false,
   "sideBar": true,
   "skip_h1_title": false,
   "title_cell": "Table of Contents",
   "title_sidebar": "Contents",
   "toc_cell": false,
   "toc_position": {},
   "toc_section_display": true,
   "toc_window_display": false
  },
  "varInspector": {
   "cols": {
    "lenName": 16,
    "lenType": 16,
    "lenVar": 40
   },
   "kernels_config": {
    "python": {
     "delete_cmd_postfix": "",
     "delete_cmd_prefix": "del ",
     "library": "var_list.py",
     "varRefreshCmd": "print(var_dic_list())"
    },
    "r": {
     "delete_cmd_postfix": ") ",
     "delete_cmd_prefix": "rm(",
     "library": "var_list.r",
     "varRefreshCmd": "cat(var_dic_list()) "
    }
   },
   "types_to_exclude": [
    "module",
    "function",
    "builtin_function_or_method",
    "instance",
    "_Feature"
   ],
   "window_display": false
  }
 },
 "nbformat": 4,
 "nbformat_minor": 4
}
