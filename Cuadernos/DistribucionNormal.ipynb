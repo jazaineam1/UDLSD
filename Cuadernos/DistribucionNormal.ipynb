{
 "cells": [
  {
   "cell_type": "markdown",
   "metadata": {},
   "source": [
    "# Distribución Normal"
   ]
  },
  {
   "cell_type": "markdown",
   "metadata": {},
   "source": [
    "La distribución normal fue presentada por primera vez por Abraham de Moivre en un artículo del año 1733, en el contexto de cierta aproximación de la distribución binomial para grandes valores de n. Su resultado fue ampliado por Laplace en su libro Teoría analítica de las probabilidades (1812), y en la actualidad se llama Teorema de De Moivre-Laplace.\n",
    "\n",
    "\n",
    "**Johann Carl Friedrich** (Brunswick, 30 de abril de 1777-Gotinga, 23 de febrero de 1855) fue un matemático, astrónomo, geodesta, y físico alemán, afirmaba haber usado el método desde 1794, lo justificó rigurosamente en 1809 asumiendo una distribución normal de los errores. \n",
    "\n",
    "El nombre de Gauss se ha asociado a esta distribución porque la usó con profusión cuando analizaba datos astronómicos y algunos autores le atribuyen un descubrimiento independiente del de De \n",
    "El nombre de \"campana\" viene de Esprit Jouffret que usó el término \"bell surface\" (superficie campana) por primera vez en 1872 para una distribución normal bivariante de componentes independientes. El nombre de \"distribución normal\" fue otorgado independientemente por Charles S. Peirce, Francis Galton y Wilhelm Lexis hacia 1875."
   ]
  },
  {
   "cell_type": "code",
   "execution_count": 32,
   "metadata": {},
   "outputs": [
    {
     "data": {
      "image/png": "[encoded data removed]",
      "text/plain": [
       "plot without title"
      ]
     },
     "metadata": {
      "image/png": {
       "height": 420,
       "width": 420
      }
     },
     "output_type": "display_data"
    }
   ],
   "source": [
    "install.packages(\"mosaic\")\n",
    "plotDist(\"norm\", mean=10, sd=2, col=\"blue\", type=\"h\")"
   ]
  },
  {
   "cell_type": "markdown",
   "metadata": {},
   "source": [
    "* La gráfica de la función de densidad tiene una forma acampanada, tiene una única moda, que coincide con su media y su mediana (aproximadamente). Lo anterior implica que es una función simétrica respecto a la media como medida de tendencia central.\n",
    "* La curva normal es asintótica al eje de las abscisas. Por ello, cualquier valor entre menos infinito e infinito es teóricamente posible.\n",
    "* La distribución Normal tiene dos parámetros, un parámetro de localización o escala $\\mu$  y otro parámetro de forma $\\sigma^2$.\n",
    "* La desviación estándar determina qué tan plana y ancha es la curva normal. Desviaciones estándar grandes corresponden a curvas más planas y más anchas, lo cual indica mayor variabilidad en los datos. A continuación se muestran dos curvas normales que tienen la misma media pero distintas desviaciones estándar\n"
   ]
  },
  {
   "cell_type": "markdown",
   "metadata": {},
   "source": [
    "Las distribuciones de probabilidad continua pueden tomar varias formas, pero un gran número de variables aleatorias observadas en la naturaleza poseen una distribución de frecuencia que tiene más o menos la forma de montículo, o bien, como diría un estadístico, es aproximadamente una distribución normal de probabilidad. La fórmula que genera esta distribución se muestra a continuación.\n",
    "$$ f(x)=\\frac{1}{\\sigma\\sqrt{2\\pi}}e^{-\\frac{(x-\\mu)^2}{2\\sigma^2}} \\text{, donde} -\\infty<x<\\infty $$\n",
    "\n",
    "$\\mu=$ media, $\\sigma=$ desviación estándar"
   ]
  },
  {
   "cell_type": "markdown",
   "metadata": {},
   "source": [
    "## Función de Distribución de Probabilidad Normal Estandarizada\n",
    "\n",
    "Una variable aleatoria normal 𝑥 está estandarizada al expresar su valor como el número de desviaciones estándar (σ) que se encuentran a la izquierda o derecha de su media 𝜇. Éste es realmente sólo un cambio en las unidades de medida que usamos, como si estuviéramos midiendo en pulgadas en lugar de pies. La variable aleatoria normal estandarizada, 𝑧, esta dada de la siguiente manera:$$Z=\\frac{x-\\mu}{\\sigma}$$\n",
    "La distribución normal estándar en la que usualmente se encuentra al final de los libros de estadísticas."
   ]
  },
  {
   "cell_type": "markdown",
   "metadata": {},
   "source": [
    "![](normal.JPG)"
   ]
  },
  {
   "cell_type": "markdown",
   "metadata": {},
   "source": [
    "### Ejemplo normal estándar \n",
    "\n",
    "\n"
   ]
  },
  {
   "cell_type": "markdown",
   "metadata": {},
   "source": [
    "1. $P(Z<1.43) = 0.9236$\n"
   ]
  },
  {
   "cell_type": "markdown",
   "metadata": {},
   "source": []
  },
  {
   "cell_type": "code",
   "execution_count": 37,
   "metadata": {
    "scrolled": false
   },
   "outputs": [
    {
     "data": {
      "text/html": [
       "0.923641490463261"
      ],
      "text/latex": [
       "0.923641490463261"
      ],
      "text/markdown": [
       "0.923641490463261"
      ],
      "text/plain": [
       "[1] 0.9236"
      ]
     },
     "metadata": {},
     "output_type": "display_data"
    }
   ],
   "source": [
    "pnorm(1.43)"
   ]
  },
  {
   "cell_type": "markdown",
   "metadata": {},
   "source": []
  },
  {
   "cell_type": "markdown",
   "metadata": {},
   "source": [
    "2. $P(Z<-1.43)=0.0764$\n"
   ]
  },
  {
   "cell_type": "code",
   "execution_count": 38,
   "metadata": {},
   "outputs": [
    {
     "data": {
      "text/html": [
       "0.0763585095367391"
      ],
      "text/latex": [
       "0.0763585095367391"
      ],
      "text/markdown": [
       "0.0763585095367391"
      ],
      "text/plain": [
       "[1] 0.07636"
      ]
     },
     "metadata": {},
     "output_type": "display_data"
    }
   ],
   "source": [
    "pnorm(-1.43)"
   ]
  },
  {
   "cell_type": "markdown",
   "metadata": {},
   "source": [
    "3. $P(Z>1.43)=1-P(Z<1.43)=1-0.9236=0.0764$\n",
    "\n"
   ]
  },
  {
   "cell_type": "code",
   "execution_count": 39,
   "metadata": {},
   "outputs": [
    {
     "data": {
      "text/html": [
       "0.0763585095367391"
      ],
      "text/latex": [
       "0.0763585095367391"
      ],
      "text/markdown": [
       "0.0763585095367391"
      ],
      "text/plain": [
       "[1] 0.07636"
      ]
     },
     "metadata": {},
     "output_type": "display_data"
    }
   ],
   "source": [
    "pnorm(1.43,lower.tail = F)"
   ]
  },
  {
   "cell_type": "markdown",
   "metadata": {},
   "source": [
    "4. $P(-1.22<Z<1.96)=P(Z<1.96)-P(Z<-1.22)=0.975-0.1112=0.8638$"
   ]
  },
  {
   "cell_type": "code",
   "execution_count": 41,
   "metadata": {},
   "outputs": [
    {
     "data": {
      "text/html": [
       "0.863769667403945"
      ],
      "text/latex": [
       "0.863769667403945"
      ],
      "text/markdown": [
       "0.863769667403945"
      ],
      "text/plain": [
       "[1] 0.8638"
      ]
     },
     "metadata": {},
     "output_type": "display_data"
    }
   ],
   "source": [
    "pnorm(1.96)-pnorm(-1.22)"
   ]
  },
  {
   "cell_type": "markdown",
   "metadata": {},
   "source": [
    "### Ejemplo distribución Normal com media $\\mu$ y desviación $\\sigma$\n",
    "\n",
    "Estudios realizados por los estudiantes de la universidad , muestran que en el 2019, el alimento  para cerdos está normalmente distribuido, con una media de 25.5 Kg y una y una desviación estándar de 4.5 kg. \n",
    "\n",
    "1.  Calcular la probabilidad cuando un cerdo consume 30 kilogramos o menos de alimento para cerdo? $ P(X \\leq 30)$\n",
    "\n",
    "$$P(X\\leq 30)=P\\left(\\frac{X-\\mu}{\\sigma}\\leq \\frac{30-25.5}{4.5}\\right)=P(Z\\leq 1)=0.8413$$\n"
   ]
  },
  {
   "cell_type": "code",
   "execution_count": 43,
   "metadata": {},
   "outputs": [
    {
     "data": {
      "text/html": [
       "0.841344746068543"
      ],
      "text/latex": [
       "0.841344746068543"
      ],
      "text/markdown": [
       "0.841344746068543"
      ],
      "text/plain": [
       "[1] 0.8413"
      ]
     },
     "metadata": {},
     "output_type": "display_data"
    }
   ],
   "source": [
    "pnorm(30,mean=25.5,sd=4.5)"
   ]
  },
  {
   "cell_type": "markdown",
   "metadata": {},
   "source": [
    "2. Calcular la probabilidad cuando un cerdo consume 23 kilogramos o más de alimento para cerdo? $P(X\\geq 23)$\n",
    "\n",
    "\n",
    "$$P(X\\geq 23)=P\\left(\\frac{X-\\mu}{\\sigma}\\geq \\frac{23-25.5}{4.5}\\right)\\approx P(Z\\geq -0.55)=1-P(Z\\leq -0.55)=1-0.2912=0.7088$$"
   ]
  },
  {
   "cell_type": "code",
   "execution_count": 51,
   "metadata": {},
   "outputs": [
    {
     "data": {
      "text/html": [
       "0.710742639246028"
      ],
      "text/latex": [
       "0.710742639246028"
      ],
      "text/markdown": [
       "0.710742639246028"
      ],
      "text/plain": [
       "[1] 0.7107"
      ]
     },
     "metadata": {},
     "output_type": "display_data"
    }
   ],
   "source": [
    "pnorm(23,mean=25.5,sd=4.5,lower.tail = F)"
   ]
  },
  {
   "cell_type": "markdown",
   "metadata": {},
   "source": [
    "3.  Calcular la probabilidad cuando un cerdo consume entre 10 y 30 (incluidos)  kilogramos de alimento para cerdo? $ P(10≤X≤30)$\n",
    "\n",
    "\\begin{equation*}\n",
    "\\begin{split}\n",
    "P(10 \\leq X\\leq 30)&=P\\left(\\frac{10-25.5}{4.5} \\leq\\frac{X-\\mu}{\\sigma}\\leq \\frac{30-25.5}{4.5}\\right)\\approx P(-3.44\\leq Z\\leq 1)=P(Z\\leq 1)-P(Z\\leq -3.44)\\\\\n",
    "&=0.8413-0.0003=0.841\n",
    "\\end{split}\n",
    "\\end{equation*}"
   ]
  },
  {
   "cell_type": "code",
   "execution_count": 52,
   "metadata": {},
   "outputs": [
    {
     "data": {
      "text/html": [
       "0.841058628958673"
      ],
      "text/latex": [
       "0.841058628958673"
      ],
      "text/markdown": [
       "0.841058628958673"
      ],
      "text/plain": [
       "[1] 0.8411"
      ]
     },
     "metadata": {},
     "output_type": "display_data"
    }
   ],
   "source": [
    "pnorm(30,25.5,4.5)-pnorm(10,25.5,4.5)"
   ]
  },
  {
   "cell_type": "markdown",
   "metadata": {},
   "source": [
    "4.  Calcular la probabilidad cuando un cerdo consume entre 13 y 19  kilogramos de alimento para cerdo? $P (13≤X≤19)$"
   ]
  },
  {
   "cell_type": "code",
   "execution_count": 7,
   "metadata": {},
   "outputs": [
    {
     "data": {
      "text/html": [
       "0.0715703964413618"
      ],
      "text/latex": [
       "0.0715703964413618"
      ],
      "text/markdown": [
       "0.0715703964413618"
      ],
      "text/plain": [
       "[1] 0.0715704"
      ]
     },
     "metadata": {},
     "output_type": "display_data"
    }
   ],
   "source": [
    "pnorm(19,25.5,4.5)-pnorm(13,25.5,4.5)"
   ]
  },
  {
   "cell_type": "markdown",
   "metadata": {},
   "source": [
    "### Ejercicios \n",
    "\n",
    "#### **Salarios**\n",
    "Un estudio reciente con respecto a salarios por hora de integrantes de equipos de mantenimiento de las aerolíneas más importantes demostró que el salario medio por hora era de $\\$20.50$, con\n",
    "una desviación estándar de $\\$3.50$. Suponga que la distribución de los salarios por hora es una distribución de probabilidad normal. Si elige un integrante de un equipo al azar, ¿cuál es la probabilidad de que gane:\n",
    "\n",
    "1.  entre $\\$20.50$ y $\\$24.00$ la hora?\n",
    "2.  más de $\\$24.00$ la hora?\n",
    "3.  menos de $\\$19.00$ la hora?"
   ]
  },
  {
   "cell_type": "code",
   "execution_count": 8,
   "metadata": {},
   "outputs": [
    {
     "data": {
      "text/html": [
       "0.341344746068543"
      ],
      "text/latex": [
       "0.341344746068543"
      ],
      "text/markdown": [
       "0.341344746068543"
      ],
      "text/plain": [
       "[1] 0.3413447"
      ]
     },
     "metadata": {},
     "output_type": "display_data"
    }
   ],
   "source": [
    "pnorm(24,mean=20.5,sd=3.5)-pnorm(20.5,mean=20.5,sd=3.5)"
   ]
  },
  {
   "cell_type": "markdown",
   "metadata": {},
   "source": [
    "#### Duración Embarazo \n",
    "Una mujer escribió a Dear Abby y afirmó haber dado\n",
    "a luz 308 días después de una visita de su esposo, quien estaba en la Marina.\n",
    "La duración de los embarazos tiene una media de 268 días y una desviación\n",
    "estándar de 15 días. Calcule la puntuación z para 308 días. ¿Esta duración es\n",
    "infrecuente? ¿Qué concluye usted?"
   ]
  },
  {
   "cell_type": "markdown",
   "metadata": {},
   "source": [
    "### Gráfica Distribución Normal"
   ]
  },
  {
   "cell_type": "markdown",
   "metadata": {},
   "source": [
    "La distribución normal puede ser graficada con ela función `plotDist`en la librería `mosaic`."
   ]
  },
  {
   "cell_type": "code",
   "execution_count": 4,
   "metadata": {},
   "outputs": [],
   "source": [
    "#install.packages(\"mosaic\")\n",
    "#library(mosaic)"
   ]
  },
  {
   "cell_type": "code",
   "execution_count": 3,
   "metadata": {},
   "outputs": [
    {
     "data": {
      "image/png": "[encoded data removed]",
      "text/plain": [
       "plot without title"
      ]
     },
     "metadata": {
      "image/png": {
       "height": 420,
       "width": 420
      }
     },
     "output_type": "display_data"
    },
    {
     "data": {
      "image/png": "[encoded data removed]",
      "text/plain": [
       "plot without title"
      ]
     },
     "metadata": {
      "image/png": {
       "height": 420,
       "width": 420
      }
     },
     "output_type": "display_data"
    }
   ],
   "source": [
    "plotDist(\"norm\", mean=10, sd=1, col=\"blue\")\n",
    "plotDist(\"norm\", mean=11, sd=1, col=\"red\", under=TRUE)"
   ]
  },
  {
   "cell_type": "markdown",
   "metadata": {},
   "source": [
    "## Cuantiles \n",
    "\n",
    "Un cuantil de una distribución de probabilidad es el valor de la variable aleatoria que limita cierta probabilidad en esa distribución. Por ejemplo, decimos que $z_{0.975} = 1,96$ es el cuantil 0,975 de la distribución Normal estandarizada, porque\n",
    "\n",
    "$$ P(Z\\leq 1.96)=0.975$$"
   ]
  },
  {
   "cell_type": "markdown",
   "metadata": {},
   "source": [
    "En general, denotamos mediante un subíndice $z_\\alpha$ al cuantil $\\alpha$, es decir, al valor de una variable Normal estandarizada que limita una probabilidad a, de modo que:\n",
    "$P(Z\\leq Z_{\\alpha})=\\alpha$"
   ]
  },
  {
   "cell_type": "markdown",
   "metadata": {},
   "source": [
    "### Ejemplo\n",
    "\n",
    "$Z_{0.99}=2.33$"
   ]
  },
  {
   "cell_type": "code",
   "execution_count": 56,
   "metadata": {
    "scrolled": true
   },
   "outputs": [
    {
     "data": {
      "text/html": [
       "2.32634787404084"
      ],
      "text/latex": [
       "2.32634787404084"
      ],
      "text/markdown": [
       "2.32634787404084"
      ],
      "text/plain": [
       "[1] 2.326"
      ]
     },
     "metadata": {},
     "output_type": "display_data"
    }
   ],
   "source": [
    "qnorm(0.99)"
   ]
  },
  {
   "cell_type": "markdown",
   "metadata": {},
   "source": [
    "$Z_{0.9}=1.28$"
   ]
  },
  {
   "cell_type": "code",
   "execution_count": 9,
   "metadata": {},
   "outputs": [
    {
     "data": {
      "text/html": [
       "1.2815515655446"
      ],
      "text/latex": [
       "1.2815515655446"
      ],
      "text/markdown": [
       "1.2815515655446"
      ],
      "text/plain": [
       "[1] 1.281552"
      ]
     },
     "metadata": {},
     "output_type": "display_data"
    }
   ],
   "source": [
    "qnorm(0.9)"
   ]
  },
  {
   "cell_type": "markdown",
   "metadata": {},
   "source": [
    "$Z_{0.05}=-1.645$"
   ]
  },
  {
   "cell_type": "code",
   "execution_count": 11,
   "metadata": {},
   "outputs": [
    {
     "data": {
      "text/html": [
       "-1.64485362695147"
      ],
      "text/latex": [
       "-1.64485362695147"
      ],
      "text/markdown": [
       "-1.64485362695147"
      ],
      "text/plain": [
       "[1] -1.644854"
      ]
     },
     "metadata": {},
     "output_type": "display_data"
    }
   ],
   "source": [
    "qnorm(0.05)"
   ]
  },
  {
   "cell_type": "markdown",
   "metadata": {},
   "source": [
    "### Ejemplo 2 Pesos al nacer. \n",
    "\n",
    "En Estados Unidos, los pesos al nacer se distribuyen normalmente,\n",
    "con una media de 3420 g y una desviación estándar de 495 g. Si un hospital planea establecer condiciones especiales de observación para el 2% de los bebés menos pesados, ¿qué peso se utilizaría para establecer un punto de corte que separe al 2% de los\n",
    "bebés menos pesados de los demás?\n",
    "\n",
    "$P(X\\leq x_{0.02})=0.02$\n",
    "\n",
    "$P(Z\\leq z_{0.02})=P(Z\\leq z_{0.02})=P(Z\\leq -2.05)=0.02$\n",
    "\n",
    "$z_{0.02}=-2.05$ y sabemos que $Z=\\frac{x-\\mu}{\\sigma}$, entonces $-2.05=\\frac{X-3420}{495}$, despejando $X=2405.25\n",
    "$, es decir $P(X\\leq 2405.25)=0.02$"
   ]
  },
  {
   "cell_type": "code",
   "execution_count": 57,
   "metadata": {
    "scrolled": true
   },
   "outputs": [
    {
     "data": {
      "text/html": [
       "2403.39428923725"
      ],
      "text/latex": [
       "2403.39428923725"
      ],
      "text/markdown": [
       "2403.39428923725"
      ],
      "text/plain": [
       "[1] 2403"
      ]
     },
     "metadata": {},
     "output_type": "display_data"
    }
   ],
   "source": [
    "qnorm(0.02,mean=3420,sd=495)"
   ]
  },
  {
   "cell_type": "markdown",
   "metadata": {},
   "source": [
    "### Ejercicios Temperaturas corporales. \n",
    "Con base en los resultados muestrales del conjunto de\n",
    "datos 2 del apéndice B, suponga que las temperaturas corporales humanas se distribuyen normalmente, con una media de 98.20°F y una desviación estándar de 0.62°F.\n",
    "a. El hospital Bellevue en la ciudad de Nueva York establece que la temperatura más\n",
    "baja considerada como fiebre es de 100.6°F. ¿Qué porcentaje de personas normales y saludables se consideraría que tienen fiebre? ¿Sugiere este porcentaje que un\n",
    "punto de corte de 100.6°F es apropiado?\n",
    "b. Los médicos desean seleccionar una temperatura mínima como requisito para solicitar más exámenes médicos. ¿Cuál debe ser esa temperatura, si deseamos que sólo el\n",
    "5.0% de las personas saludables la excedan? (Un resultado como éste es un falso positivo, lo que significa que el resultado de la prueba es positivo, pero el sujeto no está\n",
    "realmente enfermo)."
   ]
  },
  {
   "cell_type": "markdown",
   "metadata": {},
   "source": [
    "###  Ejercicio Duración de embarazos.\n",
    "\n",
    "La duración de los embarazos se distribuye normalmente,\n",
    "con una media de 268 días y una desviación estándar de 15 días.\n",
    "\n",
    "1. Un uso clásico de la distribución normal está inspirado por una carta dirigida a “Dear\n",
    "Abby”, en la que una mujer afirmaba haber dado a luz 308 días después de una breve\n",
    "visita de su esposo, quien trabajaba en la Marina. Dada esta información, calcule la\n",
    "probabilidad de que un embarazo dure 308 días o más. ¿Qué sugiere el resultado?\n",
    "\n",
    "2. Si estipulamos que un bebé es prematuro cuando la duración del embarazo se encuentra en el 4% inferior, calcule la duración que separa a los bebés prematuros de aquellos que no lo son. Los bebés prematuros suelen requerir cuidados especiales y este resultado podría ser útil para que los administradores de hospitales planeen esos cuidados"
   ]
  }
 ],
 "metadata": {
  "@webio": {
   "lastCommId": null,
   "lastKernelId": null
  },
  "kernelspec": {
   "display_name": "R",
   "language": "R",
   "name": "ir"
  },
  "language_info": {
   "codemirror_mode": "r",
   "file_extension": ".r",
   "mimetype": "text/x-r-source",
   "name": "R",
   "pygments_lexer": "r",
   "version": "4.0.2"
  },
  "latex_envs": {
   "LaTeX_envs_menu_present": true,
   "autoclose": false,
   "autocomplete": true,
   "bibliofile": "biblio.bib",
   "cite_by": "apalike",
   "current_citInitial": 1,
   "eqLabelWithNumbers": true,
   "eqNumInitial": 1,
   "hotkeys": {
    "equation": "Ctrl-E",
    "itemize": "Ctrl-I"
   },
   "labels_anchors": false,
   "latex_user_defs": false,
   "report_style_numbering": false,
   "user_envs_cfg": false
  },
  "toc": {
   "base_numbering": 1,
   "nav_menu": {},
   "number_sections": false,
   "sideBar": true,
   "skip_h1_title": false,
   "title_cell": "Table of Contents",
   "title_sidebar": "Contents",
   "toc_cell": false,
   "toc_position": {},
   "toc_section_display": true,
   "toc_window_display": false
  },
  "varInspector": {
   "cols": {
    "lenName": 16,
    "lenType": 16,
    "lenVar": 40
   },
   "kernels_config": {
    "python": {
     "delete_cmd_postfix": "",
     "delete_cmd_prefix": "del ",
     "library": "var_list.py",
     "varRefreshCmd": "print(var_dic_list())"
    },
    "r": {
     "delete_cmd_postfix": ") ",
     "delete_cmd_prefix": "rm(",
     "library": "var_list.r",
     "varRefreshCmd": "cat(var_dic_list()) "
    }
   },
   "types_to_exclude": [
    "module",
    "function",
    "builtin_function_or_method",
    "instance",
    "_Feature"
   ],
   "window_display": false
  }
 },
 "nbformat": 4,
 "nbformat_minor": 4
}
